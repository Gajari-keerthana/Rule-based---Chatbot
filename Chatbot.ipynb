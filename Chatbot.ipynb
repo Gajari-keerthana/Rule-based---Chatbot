{
  "nbformat": 4,
  "nbformat_minor": 0,
  "metadata": {
    "colab": {
      "provenance": []
    },
    "kernelspec": {
      "name": "python3",
      "display_name": "Python 3"
    },
    "language_info": {
      "name": "python"
    }
  },
  "cells": [
    {
      "cell_type": "code",
      "execution_count": null,
      "metadata": {
        "colab": {
          "base_uri": "https://localhost:8080/"
        },
        "id": "JvV7s_FhQac7",
        "outputId": "3ab0fe1d-25b8-4909-fabb-1509963cee07"
      },
      "outputs": [
        {
          "output_type": "stream",
          "name": "stdout",
          "text": [
            "Requirement already satisfied: nltk in /usr/local/lib/python3.11/dist-packages (3.9.1)\n",
            "Requirement already satisfied: click in /usr/local/lib/python3.11/dist-packages (from nltk) (8.1.8)\n",
            "Requirement already satisfied: joblib in /usr/local/lib/python3.11/dist-packages (from nltk) (1.4.2)\n",
            "Requirement already satisfied: regex>=2021.8.3 in /usr/local/lib/python3.11/dist-packages (from nltk) (2024.11.6)\n",
            "Requirement already satisfied: tqdm in /usr/local/lib/python3.11/dist-packages (from nltk) (4.67.1)\n"
          ]
        }
      ],
      "source": [
        "!pip install nltk\n"
      ]
    },
    {
      "cell_type": "code",
      "source": [
        "import nltk\n",
        "from nltk.chat.util import Chat, reflections\n"
      ],
      "metadata": {
        "id": "hSadYD7yQldA"
      },
      "execution_count": null,
      "outputs": []
    },
    {
      "cell_type": "code",
      "source": [
        "# Define pattern-response pairs\n",
        "responses = [\n",
        "    (r\"hi|hello|hey\", [\"Hello!\", \"Hi there!\", \"Hey! How can I help you today?\"]),\n",
        "    (r\"what is your name?\", [\"I'm a simple NLTK chatbot.\", \"You can call me NLTK Bot.\"]),\n",
        "    (r\"how are you?\", [\"I'm just a bot, but I'm doing well! What about you?\"]),\n",
        "    (r\"sorry (.*)\", [\"No problem\", \"Don't worry about it\", \"It's all good\"]),\n",
        "    (r\"I (.*) good\", [\"Great to hear that!\", \"That's awesome!\"]),\n",
        "    (r\"quit\", [\"Goodbye!\", \"It was nice talking to you. Bye!\"]),\n",
        "]\n"
      ],
      "metadata": {
        "id": "8dJCpTPVQouT"
      },
      "execution_count": null,
      "outputs": []
    },
    {
      "cell_type": "code",
      "source": [
        "def create_chatbot(pairs, reflections_dict):\n",
        "    return Chat(pairs, reflections_dict)\n"
      ],
      "metadata": {
        "id": "dWLaeAzpQsHX"
      },
      "execution_count": null,
      "outputs": []
    },
    {
      "cell_type": "code",
      "source": [
        "def run_chatbot():\n",
        "    print(\"Hi, I'm your chatbot. Type 'quit' to exit.\")\n",
        "    chatbot = create_chatbot(responses, reflections)\n",
        "    chatbot.converse()\n"
      ],
      "metadata": {
        "id": "41y9ErW4Qu0t"
      },
      "execution_count": null,
      "outputs": []
    },
    {
      "cell_type": "code",
      "source": [
        "if __name__ == \"__main__\":\n",
        "    run_chatbot()\n"
      ],
      "metadata": {
        "colab": {
          "base_uri": "https://localhost:8080/"
        },
        "id": "SoOivgp4QxPa",
        "outputId": "b724e117-3519-4252-f51e-31b3bb53a0cc"
      },
      "execution_count": null,
      "outputs": [
        {
          "output_type": "stream",
          "name": "stdout",
          "text": [
            "Hi, I'm your chatbot. Type 'quit' to exit.\n",
            ">hello\n",
            "Hi there!\n"
          ]
        }
      ]
    }
  ]
}