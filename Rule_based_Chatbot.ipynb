{
  "nbformat": 4,
  "nbformat_minor": 0,
  "metadata": {
    "colab": {
      "provenance": []
    },
    "kernelspec": {
      "name": "python3",
      "display_name": "Python 3"
    },
    "language_info": {
      "name": "python"
    }
  },
  "cells": [
    {
      "cell_type": "code",
      "source": [
        "import nltk\n",
        "import pandas as pd\n",
        "import re\n",
        "from nltk.tokenize import word_tokenize\n",
        "\n",
        "# Download tokenizer (only needed once)\n",
        "nltk.download('punkt')\n",
        "\n",
        "# Load CSV file\n",
        "faq_df = pd.read_csv(\"/content/drive/MyDrive/Edtech-FAQ/edtech_faq_1000_records.csv\")  # Ensure this file is in the same directory\n",
        "\n",
        "# Preprocess user input and questions\n",
        "def preprocess(text):\n",
        "    text = text.lower()\n",
        "    text = re.sub(r\"[^\\w\\s]\", \"\", text)  # Remove punctuation\n",
        "    return text.strip()\n",
        "\n",
        "# Match user input with known questions\n",
        "def match_response(user_input, faq_df):\n",
        "    user_input = preprocess(user_input)\n",
        "    for _, row in faq_df.iterrows():\n",
        "        question = preprocess(row[\"question\"])\n",
        "        if question in user_input or user_input in question:\n",
        "            return row[\"response\"]\n",
        "    return \"I'm sorry, I don't understand. Can you rephrase?\"\n",
        "\n",
        "# Run the chatbot\n",
        "def run_chatbot():\n",
        "    print(\"EduBot: Hello! Ask me anything or type 'exit' to quit.\")\n",
        "    while True:\n",
        "        user_input = input(\"You: \")\n",
        "        if user_input.lower() in ['exit', 'quit']:\n",
        "            print(\"EduBot: Goodbye!\")\n",
        "            break\n",
        "        response = match_response(user_input, faq_df)\n",
        "        print(f\"EduBot: {response}\")\n",
        "\n",
        "if __name__ == \"__main__\":\n",
        "    run_chatbot()\n"
      ],
      "metadata": {
        "colab": {
          "base_uri": "https://localhost:8080/"
        },
        "id": "VX472ZZ3xiYR",
        "outputId": "54d9ce12-4cb7-4a9e-c57e-ac304a4e7fc1"
      },
      "execution_count": null,
      "outputs": [
        {
          "output_type": "stream",
          "name": "stderr",
          "text": [
            "[nltk_data] Downloading package punkt to /root/nltk_data...\n",
            "[nltk_data]   Package punkt is already up-to-date!\n"
          ]
        },
        {
          "output_type": "stream",
          "name": "stdout",
          "text": [
            "EduBot: Hello! Ask me anything or type 'exit' to quit.\n",
            "You: forgot password\n",
            "EduBot: I'm sorry, I don't understand. Can you rephrase?\n",
            "You: account\n",
            "EduBot: To manage your account, visit the account settings page or contact support if you're locked out.\n"
          ]
        }
      ]
    }
  ]
}